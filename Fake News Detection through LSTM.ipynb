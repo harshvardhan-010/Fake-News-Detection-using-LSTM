{
 "cells": [
  {
   "cell_type": "markdown",
   "id": "649e2330",
   "metadata": {},
   "source": [
    "## Required Libraries for Detecting Fake News through LSTM "
   ]
  },
  {
   "cell_type": "code",
   "execution_count": 1,
   "id": "3ef4ac34",
   "metadata": {},
   "outputs": [],
   "source": [
    "import pandas as pd\n",
    "import numpy as np"
   ]
  },
  {
   "cell_type": "markdown",
   "id": "cc2f65f8",
   "metadata": {},
   "source": [
    "#### Reading a Dataset"
   ]
  },
  {
   "cell_type": "code",
   "execution_count": 2,
   "id": "b5d40273",
   "metadata": {
    "scrolled": true
   },
   "outputs": [
    {
     "data": {
      "text/html": [
       "<div>\n",
       "<style scoped>\n",
       "    .dataframe tbody tr th:only-of-type {\n",
       "        vertical-align: middle;\n",
       "    }\n",
       "\n",
       "    .dataframe tbody tr th {\n",
       "        vertical-align: top;\n",
       "    }\n",
       "\n",
       "    .dataframe thead th {\n",
       "        text-align: right;\n",
       "    }\n",
       "</style>\n",
       "<table border=\"1\" class=\"dataframe\">\n",
       "  <thead>\n",
       "    <tr style=\"text-align: right;\">\n",
       "      <th></th>\n",
       "      <th>URLs</th>\n",
       "      <th>Headline</th>\n",
       "      <th>Body</th>\n",
       "      <th>Label</th>\n",
       "    </tr>\n",
       "  </thead>\n",
       "  <tbody>\n",
       "    <tr>\n",
       "      <th>0</th>\n",
       "      <td>http://www.bbc.com/news/world-us-canada-414191...</td>\n",
       "      <td>Four ways Bob Corker skewered Donald Trump</td>\n",
       "      <td>Image copyright Getty Images\\nOn Sunday mornin...</td>\n",
       "      <td>1</td>\n",
       "    </tr>\n",
       "    <tr>\n",
       "      <th>1</th>\n",
       "      <td>https://www.reuters.com/article/us-filmfestiva...</td>\n",
       "      <td>Linklater's war veteran comedy speaks to moder...</td>\n",
       "      <td>LONDON (Reuters) - “Last Flag Flying”, a comed...</td>\n",
       "      <td>1</td>\n",
       "    </tr>\n",
       "    <tr>\n",
       "      <th>2</th>\n",
       "      <td>https://www.nytimes.com/2017/10/09/us/politics...</td>\n",
       "      <td>Trump’s Fight With Corker Jeopardizes His Legi...</td>\n",
       "      <td>The feud broke into public view last week when...</td>\n",
       "      <td>1</td>\n",
       "    </tr>\n",
       "    <tr>\n",
       "      <th>3</th>\n",
       "      <td>https://www.reuters.com/article/us-mexico-oil-...</td>\n",
       "      <td>Egypt's Cheiron wins tie-up with Pemex for Mex...</td>\n",
       "      <td>MEXICO CITY (Reuters) - Egypt’s Cheiron Holdin...</td>\n",
       "      <td>1</td>\n",
       "    </tr>\n",
       "    <tr>\n",
       "      <th>4</th>\n",
       "      <td>http://www.cnn.com/videos/cnnmoney/2017/10/08/...</td>\n",
       "      <td>Jason Aldean opens 'SNL' with Vegas tribute</td>\n",
       "      <td>Country singer Jason Aldean, who was performin...</td>\n",
       "      <td>1</td>\n",
       "    </tr>\n",
       "  </tbody>\n",
       "</table>\n",
       "</div>"
      ],
      "text/plain": [
       "                                                URLs  \\\n",
       "0  http://www.bbc.com/news/world-us-canada-414191...   \n",
       "1  https://www.reuters.com/article/us-filmfestiva...   \n",
       "2  https://www.nytimes.com/2017/10/09/us/politics...   \n",
       "3  https://www.reuters.com/article/us-mexico-oil-...   \n",
       "4  http://www.cnn.com/videos/cnnmoney/2017/10/08/...   \n",
       "\n",
       "                                            Headline  \\\n",
       "0         Four ways Bob Corker skewered Donald Trump   \n",
       "1  Linklater's war veteran comedy speaks to moder...   \n",
       "2  Trump’s Fight With Corker Jeopardizes His Legi...   \n",
       "3  Egypt's Cheiron wins tie-up with Pemex for Mex...   \n",
       "4        Jason Aldean opens 'SNL' with Vegas tribute   \n",
       "\n",
       "                                                Body  Label  \n",
       "0  Image copyright Getty Images\\nOn Sunday mornin...      1  \n",
       "1  LONDON (Reuters) - “Last Flag Flying”, a comed...      1  \n",
       "2  The feud broke into public view last week when...      1  \n",
       "3  MEXICO CITY (Reuters) - Egypt’s Cheiron Holdin...      1  \n",
       "4  Country singer Jason Aldean, who was performin...      1  "
      ]
     },
     "execution_count": 2,
     "metadata": {},
     "output_type": "execute_result"
    }
   ],
   "source": [
    "df = pd.read_csv(r'D:\\Deep Learning - Self\\Datasets\\fake_news.csv')\n",
    "df.head()"
   ]
  },
  {
   "cell_type": "code",
   "execution_count": 3,
   "id": "90553ded",
   "metadata": {},
   "outputs": [
    {
     "name": "stdout",
     "output_type": "stream",
     "text": [
      "Number of Rows: 4009\n",
      "Number of Features: 4\n"
     ]
    }
   ],
   "source": [
    "print('Number of Rows: {}'.format(df.shape[0]))\n",
    "print('Number of Features: {}'.format(df.shape[1]))"
   ]
  },
  {
   "cell_type": "code",
   "execution_count": 4,
   "id": "de876ec6",
   "metadata": {
    "scrolled": false
   },
   "outputs": [
    {
     "data": {
      "text/plain": [
       "URLs         0\n",
       "Headline     0\n",
       "Body        21\n",
       "Label        0\n",
       "dtype: int64"
      ]
     },
     "execution_count": 4,
     "metadata": {},
     "output_type": "execute_result"
    }
   ],
   "source": [
    "df.isna().sum()\n",
    "## Checking NaN values in each features"
   ]
  },
  {
   "cell_type": "code",
   "execution_count": 5,
   "id": "6e42d149",
   "metadata": {},
   "outputs": [
    {
     "name": "stdout",
     "output_type": "stream",
     "text": [
      "Null values contains 0.52% in Body Features\n"
     ]
    }
   ],
   "source": [
    "print('Null values contains {:.2f}% in Body Features'.format((21/4009)*100))"
   ]
  },
  {
   "cell_type": "code",
   "execution_count": 6,
   "id": "72dd0ea6",
   "metadata": {},
   "outputs": [
    {
     "name": "stdout",
     "output_type": "stream",
     "text": [
      "Number of Rows after dropping NaN values: 3988\n"
     ]
    }
   ],
   "source": [
    "## Hence it is okay to drop NaN values\n",
    "df.dropna(inplace=True)\n",
    "\n",
    "## resetting the index\n",
    "df.reset_index(inplace=True)\n",
    "\n",
    "print('Number of Rows after dropping NaN values: {}'.format(df.shape[0]))"
   ]
  },
  {
   "cell_type": "code",
   "execution_count": 7,
   "id": "a0191f05",
   "metadata": {},
   "outputs": [],
   "source": [
    "## I'll need only 'Headline' feature for further operations wheather the particular headline is real news or a fake news\n",
    "X = df['Headline']\n",
    "\n",
    "## and the output classification feature where 0 being Real News and 1 being Fake News\n",
    "y = df['Label']"
   ]
  },
  {
   "cell_type": "code",
   "execution_count": 8,
   "id": "cff29e69",
   "metadata": {},
   "outputs": [
    {
     "name": "stdout",
     "output_type": "stream",
     "text": [
      "Number of Real news in Label Feature: 2120\n",
      "Number of Fake News in Label Feature: 1868\n"
     ]
    }
   ],
   "source": [
    "print('Number of Real news in Label Feature: {}'.format(y.value_counts()[0]))\n",
    "print('Number of Fake News in Label Feature: {}'.format(y.value_counts()[1]))"
   ]
  },
  {
   "cell_type": "markdown",
   "id": "bee37705",
   "metadata": {},
   "source": [
    "#### One Hot Representation"
   ]
  },
  {
   "cell_type": "code",
   "execution_count": 9,
   "id": "9401271b",
   "metadata": {},
   "outputs": [],
   "source": [
    "import nltk\n",
    "import re\n",
    "from nltk.corpus import stopwords"
   ]
  },
  {
   "cell_type": "code",
   "execution_count": 10,
   "id": "d633889d",
   "metadata": {},
   "outputs": [
    {
     "name": "stderr",
     "output_type": "stream",
     "text": [
      "[nltk_data] Downloading package stopwords to\n",
      "[nltk_data]     C:\\Users\\HARSHU\\AppData\\Roaming\\nltk_data...\n",
      "[nltk_data]   Package stopwords is already up-to-date!\n"
     ]
    },
    {
     "data": {
      "text/plain": [
       "True"
      ]
     },
     "execution_count": 10,
     "metadata": {},
     "output_type": "execute_result"
    }
   ],
   "source": [
    "nltk.download('stopwords')"
   ]
  },
  {
   "cell_type": "markdown",
   "id": "c5f10b49",
   "metadata": {},
   "source": [
    "#### Data Preprocessing"
   ]
  },
  {
   "cell_type": "code",
   "execution_count": 11,
   "id": "5430e4d9",
   "metadata": {},
   "outputs": [],
   "source": [
    "from nltk.stem.porter import PorterStemmer\n",
    "## Used for stemming"
   ]
  },
  {
   "cell_type": "code",
   "execution_count": 12,
   "id": "0c7a4a4f",
   "metadata": {},
   "outputs": [],
   "source": [
    "ps = PorterStemmer()\n",
    "sentence_list = []"
   ]
  },
  {
   "cell_type": "code",
   "execution_count": 13,
   "id": "9a94a40b",
   "metadata": {},
   "outputs": [],
   "source": [
    "for i in range(0,len(X)):\n",
    "    review = re.sub('[^a-zA-z]',' ',X[i]) \n",
    "    ## apart from a-z & A-Z, substitute everything with ' ' - (blank space) X\n",
    "    \n",
    "    review = review.lower()\n",
    "    ## lower every sentences\n",
    "    \n",
    "    review = review.split()\n",
    "    ## list of words in each sentence\n",
    "    \n",
    "    review = [ps.stem(word) for word in review if not word in stopwords.words('english')]\n",
    "    ## if word is not present in stopwords then proceed with stemming\n",
    "    \n",
    "    review = ' '.join(review)\n",
    "    sentence_list.append(review)"
   ]
  },
  {
   "cell_type": "code",
   "execution_count": 14,
   "id": "e7eaf706",
   "metadata": {},
   "outputs": [
    {
     "data": {
      "text/plain": [
       "['four way bob corker skewer donald trump',\n",
       " 'linklat war veteran comedi speak modern america say star',\n",
       " 'trump fight corker jeopard legisl agenda',\n",
       " 'egypt cheiron win tie pemex mexican onshor oil field',\n",
       " 'jason aldean open snl vega tribut',\n",
       " 'jetnat fanduel leagu week',\n",
       " 'kansa tri tax plan similar trump fail',\n",
       " 'india rbi chief growth import cost inflat newspap',\n",
       " 'epa chief sign rule clean power plan exit tuesday',\n",
       " 'talk sale air berlin plane easyjet risk collaps report',\n",
       " 'u presid donald trump quietli sign law allow warrantless search part va dc md',\n",
       " 'fantasi footbal team defens rank week',\n",
       " 'shut play damn basebal',\n",
       " 'deloitt cyber attack affect client guardian',\n",
       " 'chuck axe hbd brickyard adam moonlight ace chuck season final',\n",
       " 'gunman girlfriend said know plan harm',\n",
       " 'maril danley gunman girlfriend say unawar plan',\n",
       " 'trump immigr rhetor echo bitter fight',\n",
       " 'trump bemoan littl appreci san juan mayor beg water',\n",
       " 'meet militari trump talk calm storm',\n",
       " 'teacher spark outrag ask kid make nazi mascot',\n",
       " 'gloam hbd bill lou cy third everett cy leon buck clark honor tini hitter',\n",
       " 'weinstein co board oust harvey weinstein harass alleg',\n",
       " 'hillari clinton suggest trump may order murder journalist',\n",
       " 'hbd cannonbal paul camnitz clan game stori',\n",
       " 'sharapova storm tianjin quarter final',\n",
       " 'expo park forb field era pirat gray ws win game stori',\n",
       " 'weinstein scandal surpris hollywood',\n",
       " 'blackhawk roster breakdown goali',\n",
       " 'christian pulis drive unit state steer closer world cup',\n",
       " 'cyclebar westgat west host benefit cycl ride help fragil bone diseas foundat oct',\n",
       " 'kimmel give emot plea lawmak',\n",
       " 'hard brexit seen dire dutch far wors brit rabobank',\n",
       " 'weaken nate bring rain tornado warn u south',\n",
       " 'pa attorney gener concern equifax cyberattack u attorney gener upset util smart meter hack',\n",
       " 'melania trump respond ivana trump call first ladi',\n",
       " 'trump administr formal lift sanction sudan',\n",
       " 'mexico plan aid puerto rico hurrican maria',\n",
       " 'expo park forb field era deacon whip cy st ws game waner hit boss man roberto',\n",
       " 'five arrest delhi assault nigerian',\n",
       " 'googl clip automat identifi everyon includ pet',\n",
       " 'fantasi footbal kicker rank week',\n",
       " 'problem wild card game sanchez',\n",
       " 'fantasi footbal run back rank week',\n",
       " 'would happen microwav',\n",
       " 'raven vs steeler friday game statu',\n",
       " 'upgrad modern mac',\n",
       " 'newton laugh femal report ask question wr rout',\n",
       " 'la vega polic deni nfl michael bennett racial profil video rebut player claim',\n",
       " 'world cup england boss gareth southgat big challeng',\n",
       " 'chuck axe hbd brickyard adam moonlight ace chuck season final',\n",
       " 'iran hardlin pragmatist show uniti respons trump',\n",
       " 'pumpkin spice white hot chocol',\n",
       " 'dupe american wast taxpay money',\n",
       " 'nibiru final warn long earth left planet x doom',\n",
       " 'simpson predict donald trump presid',\n",
       " 'dem late night sock puppet sign fair doctrin restor',\n",
       " 'ben stoke england rounder lose new balanc sponsorship',\n",
       " 'violent revers end n korea think us bluf jame rickard greg hunter video',\n",
       " 'new document show pentagon ship billion worth weapon terrorist syria tri cover track',\n",
       " 'mom put glass babi watch face see dad first time',\n",
       " 'bizarr thing make sens la vega mass shoot fals flag event bizarr thing make sens la vega mass shoot fals flag event',\n",
       " 'dynasti gener gossip girl mom watch',\n",
       " 'disney hillari clinton obama condemn weinstein',\n",
       " 'macarthur foundat fellow winner list',\n",
       " 'safeway open brendan steel win titl second year success',\n",
       " 'lawrenc thoma offici make switch fullback',\n",
       " 'cnn hero mona patel sparkl twin',\n",
       " 'la vega shoot make countri guitarist chang mind gun',\n",
       " 'netflix fend critic canada invest',\n",
       " 'huge triangl shadow sky louisiana',\n",
       " 'kenyan elect offici open new vote origin candid',\n",
       " 'tip select best flower bouquet onlin',\n",
       " 'rohingya refuge kill boat capsiz myanmar bangladesh',\n",
       " 'nelli arrest suspicion rape',\n",
       " 'happi th birthday studi push back homo sapien origin',\n",
       " 'kid fit get kid couch fun',\n",
       " 'exclus eu regul set approv atlantia bid aberti sourc',\n",
       " 'franc still confirm link marseil attack',\n",
       " 'north korea threat emp becom extinct level event',\n",
       " 'presid trump sens compass',\n",
       " 'new document show pentagon ship billion worth weapon terrorist syria tri cover track',\n",
       " 'jimmi kimmel weep talk shoot hometown',\n",
       " 'wonder woman surpris back stori film',\n",
       " 'mom fight back home invad detroit west side',\n",
       " 'gatekeep invad podcastto preview blackhawk season',\n",
       " 'danc star la vega tribut',\n",
       " 'hack world around',\n",
       " 'tr pnc park buc win lose four playoff dang red traci fire',\n",
       " 'u insur wind storm surg loss hurrican nate around million kcc',\n",
       " 'onlin bot behind vladimir putin birthday wish',\n",
       " 'rose mcgowan attack ben affleck harvey weinstein lie',\n",
       " 'mexico warn u protectionist war peso weaken',\n",
       " 'weinstein media shame',\n",
       " 'broken th crystal sun releas castaliah',\n",
       " 'audio releas hotel worker warn shooter vega massacr',\n",
       " 'look thursday night footbal game',\n",
       " 'rise profil footbal australia',\n",
       " 'women absorb retain dna everi man sex',\n",
       " 'u hous approv disast fund trump critic puerto rico',\n",
       " 'elliott up hitachi kokusai stake kkr rais offer price',\n",
       " 'cowboy wr dez bryant team done anthem demonst',\n",
       " 'fsu oppon preview wake forest',\n",
       " 'ancient papyru scroll reveal egyptian pyramid built',\n",
       " 'colbert dinosaur knew better weinstein',\n",
       " 'holiday destin expert say miss',\n",
       " 'fed still puzzl inflat rate increas track',\n",
       " 'nobel prize medicin us bodi clock scientist win',\n",
       " 'nld max scherzer miss game',\n",
       " 'trump pois sign order open new path health insur',\n",
       " 'shock carol wood coverup polic alter record archiv sept',\n",
       " 'highlight sunday mlb playoff game',\n",
       " 'th centuri charcoal sketch nake mona lisa',\n",
       " 'tailgat jaguar vs jet',\n",
       " 'hero save peopl reunit offic save life',\n",
       " 'get em sweat em week',\n",
       " 'pakistan v sri lanka tourist win second test run take seri',\n",
       " 'trump administr urg congress renew foreign intellig surveil act fisa',\n",
       " 'john elway say time take polit footbal',\n",
       " 'theresa may need resign good britain',\n",
       " 'employ refus pay birth control thank trump',\n",
       " 'teacher told student dark skin play lincoln',\n",
       " 'strang object spot newfoundland canada',\n",
       " 'exclus prioriti usa run tax reform tv ad',\n",
       " 'secret super element',\n",
       " 'kasperski u spat sign balkanis cyber world interpol',\n",
       " 'rohingya crisi find truth arsa milit',\n",
       " 'wall street vs kremlin realli run white hous',\n",
       " 'seriou trump daca',\n",
       " 'rich would benefit trump tax cut plan polici group',\n",
       " 'hungari wall versu u wall',\n",
       " 'ray say pray protest',\n",
       " 'trump resist pressur soften stanc iran nuclear deal',\n",
       " 'stolen babi photo album return mom year later',\n",
       " 'highlight hong kong leader carri lam deliv maiden polici address',\n",
       " 'kneel nation anthem disrespect patriot',\n",
       " 'diari ann frank transform graphic adapt',\n",
       " 'sweet season come good habit care monitor teeth problem avoid accord gilroy dentist',\n",
       " 'war cash backfir india economi',\n",
       " 'trump threaten ww review plan send weapon ukrain',\n",
       " 'high school threaten ban player kneel anthem',\n",
       " 'china comac say c third test flight delay due bad weather',\n",
       " 'harvey weinstein gone hollywood still problem',\n",
       " 'republican want women tradit homemak famili wive',\n",
       " 'harlem hatter bring past life',\n",
       " 'trump eminem friendli anymor',\n",
       " 'helicopt money come michael pento',\n",
       " 'tick u bodi clock scientist win nobel medicin prize',\n",
       " 'shot amaz sport photo',\n",
       " 'commiss wit minder',\n",
       " 'drain cash riven rivalri unesco seek leader reviv fortun',\n",
       " 'video releas elderli german captiv behead islam state',\n",
       " 'review money buy new dynasti excit',\n",
       " 'yanke live see anoth day',\n",
       " 'iraq forc retak town hawija',\n",
       " 'fix upper star announc final season realli',\n",
       " 'u cut embassi staff warn travel cuba',\n",
       " 'la vega bombshel video show second shooter vega massacr alex jone channel',\n",
       " 'california seek ban fossil fuel car lay groundwork ban human road',\n",
       " 'la vega massacr stranger save woman life',\n",
       " 'nfl malcont marshawn lynch wear anti trump shirt game',\n",
       " 'blue martinez',\n",
       " 'trump lay espn anchor suspend tweet',\n",
       " 'host prom sell cow north korean embassi scroung cash',\n",
       " 'world best travel photo',\n",
       " 'avid hunter jr gun silenc great instrument',\n",
       " 'thing think',\n",
       " 'castrat cure',\n",
       " 'noah trump pretend like puerto rico',\n",
       " 'brazilian activist award fight amazon rainforest dam',\n",
       " 'stream defens week offens want exploit',\n",
       " 'judg award alleg rapist parent right',\n",
       " 'shut play damn basebal',\n",
       " 'new oregon law help facilit sale industri hemp product',\n",
       " 'uk tech firm micro focu curb code review high risk govern',\n",
       " 'hangov win',\n",
       " 'inspir journey aaron judg',\n",
       " 'quantum comput nutshel',\n",
       " 'brook shield reveal trump ask',\n",
       " 'fantasi footbal kicker rank week',\n",
       " 'coach footbal player convict rape earn nd chanc',\n",
       " 'polic take shot actor movi set',\n",
       " 'burnett call clinton weinstein',\n",
       " 'come togeth',\n",
       " 'game photo michigan purdu',\n",
       " 'new york architect chosen major new london concert hall',\n",
       " 'plu size model ashley graham shame troll workout video',\n",
       " 'australia amp buy u logist group carlyl',\n",
       " 'russia putin eye elect next year pledg prosecut vote violat',\n",
       " 'boston red sox recov epic beatdown houston astro',\n",
       " 'freedom exist natur law',\n",
       " 'hous republican answer tax reform matter new video',\n",
       " 'poor chines intern may forc make brand laptop',\n",
       " 'trump fan collect person info thousand left',\n",
       " 'john green turtl way teenag mind war',\n",
       " 'new york shake shack test robot personnel blow minimum wage',\n",
       " 'kyrgio find purpos help underprivileg children',\n",
       " 'team alreadi qualifi',\n",
       " 'china say hope iran nuclear deal stay intact amid trump critic',\n",
       " 'new coach remind fan purdu footbal team',\n",
       " 'china open carolin garcia beat world number one simona halep take titl',\n",
       " 'fantasi footbal quarterback rank week',\n",
       " 'second week row jet youngster shine',\n",
       " 'eric trump nation anthem kept sacr',\n",
       " 'eric trump nation anthem kept sacr',\n",
       " 'veteran ask wors kneel millionair vet neglect death',\n",
       " 'hand feed hum bird amaz',\n",
       " 'la vega bombshel video appear show muzzl flash th floor nd video',\n",
       " 'trump got hope',\n",
       " 'amazon rise',\n",
       " 'colbert surpris last week tonight audienc',\n",
       " 'businessman struck deal islam state help assad feed syrian',\n",
       " 'hand indian trophi joe',\n",
       " 'warn italian supervolcano brink erupt',\n",
       " 'transgend midshipman fight trump ban',\n",
       " 'tr pnc park era buc win coupl lose coupl playoff game roberto pop final game stori',\n",
       " 'catalan leader pressur drop independ',\n",
       " 'eu say ball entir uk court move next brexit talk phase',\n",
       " 'blade runner westworld test empathi',\n",
       " 'vega mass shooter verbal abus toward girlfriend',\n",
       " 'chicago cub accomplish rare franchis feat nl central win',\n",
       " 'presid trump say la vega shoot live updat',\n",
       " 'nowher go',\n",
       " 'hbd tom doni danni catfish spanki han cannonbal come',\n",
       " 'review shakespear meet elev repair servic mayhem ensu',\n",
       " 'unit state miss world cup trinidad loss',\n",
       " 'raven abandon run game',\n",
       " 'yanke burn',\n",
       " 'indian secret weapon may yan gome catcher brazil',\n",
       " 'polic look creepi mask figur appear wood',\n",
       " 'bali volcano brink erupt first time sinc year evacu order',\n",
       " 'sold underground economi suprem resel',\n",
       " 'jacobi jone retir raven',\n",
       " 'cuba sourc style',\n",
       " 'linklat war veteran comedi speak modern america say star',\n",
       " 'raven lay anoth egg',\n",
       " 'germani schaeubl back ecb plan bad loan',\n",
       " 'ray say pray protest',\n",
       " 'trump cabinet travel style expens tax payer',\n",
       " 'alleg moron remark tillerson stroke trump ego',\n",
       " 'trump health care',\n",
       " 'german foreign polici expert warn anti american',\n",
       " 'california cloth store owner trump nazi billboard backfir big time',\n",
       " 'make money play video game onlin',\n",
       " 'mommi sign preschool rundown day internet laughter mommi sign preschool rundown day internet laughter',\n",
       " 'forward hbd ken teke take two alou brown row cutch walk giant final',\n",
       " 'spark gene therapi improv vision least short term fda',\n",
       " 'financi destruct real economi',\n",
       " 'u suspend visa servic turkey turkey respond kind',\n",
       " 'queen museum director polit art',\n",
       " 'raven raider wednesday',\n",
       " 'la vega massacr thought provok conclus evid inform shoot',\n",
       " 'spacex bfr go citi citi earth hour',\n",
       " 'trickl taxat f branco',\n",
       " 'trump gun violenc go talk',\n",
       " 'portsmouth owner eisner journey disney pompey',\n",
       " 'quit act got role lifetim',\n",
       " 'video game convent draw u',\n",
       " 'trump iran nuclear deal',\n",
       " 'obama cri see malia colleg',\n",
       " 'shot amaz sport photo',\n",
       " 'radiat detector',\n",
       " 'brazil congression report recommend shelv temer charg',\n",
       " 'happen hbd spec jim vanc max swipe connel deal danni quit',\n",
       " 'trump visit puerto rico tuesday',\n",
       " 'neo nazi denni mothersbaugh proudli wear god gun trump shirt',\n",
       " 'snapchat jeff koon collabor augment realiti art project',\n",
       " 'gave us polic state patriot act vega get readi usa liberti act',\n",
       " 'tell donald trump high iq',\n",
       " 'un allegedli nix report predict rohingya crisi',\n",
       " 'raven problem start top',\n",
       " 'top european innov univers comparison',\n",
       " 'russian footbal comment walk live air',\n",
       " 'lambeau field becom hous horror chicago bear',\n",
       " 'sitcom illeg famili',\n",
       " 'look four storm one brutal hurrican season',\n",
       " 'exclus russian link group sold merchandis onlin',\n",
       " 'japanes gp lewi hamilton posit comfort',\n",
       " 'podcast hokiesmash_asd talkinaccsport talk fbi investig acc football\\\\network anishespn',\n",
       " 'judg toss lawsuit jare fogl ex wife subway',\n",
       " 'durham bull part hitter',\n",
       " 'presid trump say la vega shoot live updat',\n",
       " 'daniel howel post youtub vlog reveal struggl depress',\n",
       " 'microscop trailblaz win chemistri nobel freez frame life',\n",
       " 'trump tell report flag respect [video]',\n",
       " 'podcast hokiesmash_asd talkinaccsport talk fbi investig acc football\\\\network anishespn',\n",
       " 'british swim apologis climat fear find',\n",
       " 'dove face pr disast ad show black woman turn white',\n",
       " 'london cup tea line',\n",
       " 'gay iraqi soldier found love amid war fled us',\n",
       " 'play heavi heart jet eali domin line',\n",
       " 'flight routin super travel',\n",
       " 'codex seraphinianu compendium otherworldli natur scienc',\n",
       " 'relief money texa hurrican victim pleas share',\n",
       " 'free press free tell fact vaccin',\n",
       " 'gmexico transport plan ipo octob file',\n",
       " 'queen museum director polit art',\n",
       " 'googl uncov russia back ad youtub gmail sourc',\n",
       " 'fantasi footbal run back rank week',\n",
       " 'north korean ship load grenad seiz us en rout egypt',\n",
       " 'pa attorney gener concern equifax cyberattack u attorney gener upset util smart meter hack',\n",
       " 'would feel blackhawk lineup',\n",
       " 'macarthur foundat name geniu grant winner',\n",
       " 'brexit talk deadlock cash barnier eye move decemb',\n",
       " 'peopl lost',\n",
       " 'ah kid tantrum want scream',\n",
       " 'ole smoki tennesse moonshin becom proud sponsor tennesse titan',\n",
       " 'hollywood react harvey weinstein abus claim',\n",
       " 'presid donald trump schedul friday septemb',\n",
       " 'fantasi footbal week advic',\n",
       " 'blade runner westworld test empathi',\n",
       " 'trump continu nbc threat say licens must challeng',\n",
       " 'world cup arjen robben retir netherland duti sweden defeat',\n",
       " 'import stori box score dever deliv anderson giolito regress risk',\n",
       " 'trump senat intel committe investig fake news',\n",
       " 'top offic navi ship john mccain remov',\n",
       " 'conway puerto rico',\n",
       " 'cam newton laugh femal report talk footbal',\n",
       " 'activ shooter report near la vega casino',\n",
       " 'snl push gun control partisan issu',\n",
       " 'tillerson day number',\n",
       " 'ultra rich famili dynasti bleed unit state dri',\n",
       " 'diari ann frank transform graphic adapt',\n",
       " 'niner readi turn corner time tell',\n",
       " 'australia success reform gun law us',\n",
       " 'raven vs steeler thursday',\n",
       " 'appl near tv deal spielberg amaz stori',\n",
       " 'japanes report die clock hour overtim',\n",
       " 'white hous press brief',\n",
       " 'premier leagu show crystal palac perfect wilfri zaha',\n",
       " 'foreign polici empir build destroy unit state',\n",
       " 'ufc toni ferguson call conor mcgregor win interim lightweight titl',\n",
       " 'yank thing beat tribe',\n",
       " 'graphic design help save live',\n",
       " 'saudi king issu decre women allow drive car',\n",
       " 'ray say pray protest',\n",
       " 'face stigma diabet',\n",
       " 'donald trump act like fifth grade bulli',\n",
       " 'u heat cost forecast higher winter eia',\n",
       " 'start em sit em week dak prescott chri carson hilton',\n",
       " 'brazil polic say jb owner profit insid inform',\n",
       " 'polit point score muddi sexual harass coverag',\n",
       " 'u trio win nobel find einstein gravit wave',\n",
       " 'trump america white famili time wealthier black one',\n",
       " 'video show utah cop fatal shoot black man behind',\n",
       " 'ever seen miss wors',\n",
       " 'danish minist republish controversi prophet cartoon',\n",
       " 'teacher told student dark skin play lincoln',\n",
       " 'puerto rican polic offic san juan mayor allow distribut aid suppli',\n",
       " 'raven vs steeler wednesday',\n",
       " 'blue ribbon preseason top includ six acc',\n",
       " 'expo park forb field era pirat gray ws win game stori',\n",
       " 'help victim california wildfir',\n",
       " 'full lyric eminem trump bash freestyl storm',\n",
       " 'jeet feel heat',\n",
       " 'russia protest u shame theft consul flag',\n",
       " 'snl return trump mockeri',\n",
       " 'barcelona african street trader swap crime craft',\n",
       " 'trump america white famili time wealthier black one',\n",
       " 'srebrenica defend naser oric clear war crime sarajevo',\n",
       " 'xi jinp press militari overhaul two gener disappear',\n",
       " 'cam newton laugh femal report talk footbal',\n",
       " 'secur measur chang respons mass shoot',\n",
       " 'pass game film review good mccown week jaguar',\n",
       " 'fort leggett shell doubt injuri report',\n",
       " 'lord coe athlet must consid radic chang say iaaf presid',\n",
       " 'air forc academi head racist get',\n",
       " 'fantasi footbal week sleeper',\n",
       " 'bloodi luck f branco cartoon',\n",
       " 'steeler ring bell time huge road win raven',\n",
       " 'around acc blogospher septemb',\n",
       " 'trump make import announc north korea today mcmaster say',\n",
       " 'real dreamer elit corpor',\n",
       " 'buy em deni em chri johnson worthi fantasi option',\n",
       " 'thing think',\n",
       " 'durham bull part pitcher',\n",
       " 'tv saturday spielberg clueless',\n",
       " 'trump busi bash nfl forgot hire scienc advis',\n",
       " 'trend watch',\n",
       " 'scorn alabama crimson tide mission destroy ncaa extrem prejudic',\n",
       " 'podcast hokiesmash_asd talkinaccsport talk fbi investig acc football\\\\network anishespn',\n",
       " 'pacif ring fire wake major geolog event trigger concern',\n",
       " 'tr pnc park era red thump buc x playoff cole beat card buc clich syd jr axe',\n",
       " 'grow choru confront trump leav nuclear deal',\n",
       " 'snl push gun control partisan issu',\n",
       " 'trump mock puerto rico hispan heritag speech horribl',\n",
       " 'north korea trump lit wick war',\n",
       " 'woman throw drink laker fan took knee anthem',\n",
       " 'snl alec baldwin trump call san juan mayor nasti woman',\n",
       " 'miley cyru tear thank hillari clinton',\n",
       " 'austria islamophob burqa ban crimin muslim women',\n",
       " 'tr pnc era wildcard win tr close freddi take crown lock st win',\n",
       " 'buc take last strike never say die win',\n",
       " 'equifax hack roll implant rfid chip everi person usa world',\n",
       " 'chicago bear receiv core struggl earli',\n",
       " 'restructur sever veteran',\n",
       " 'worst plastic surgeri ever seen',\n",
       " 'best former profession athlet run sport team',\n",
       " 'bullpen note septemb barraclough get save familia outlook',\n",
       " 'rise rock n roll band dynamo unleash lead singl shake rattl roll avail',\n",
       " 'smart billboard target individu motorist spi licens plate cellphon',\n",
       " 'new york cabl provid altic acc network',\n",
       " 'yanke take american leagu wild card game face cleveland indian next',\n",
       " 'secret document reveal former cia director plan make read wikileak crime',\n",
       " 'tr pnc era roberto clincher hbd bryan cover boy scoop game stori',\n",
       " 'wash blood away forget',\n",
       " 'happen buc clinch nh gm hbd dave dick toni vanim wilson william record',\n",
       " 'tropic storm ophelia form open atlant',\n",
       " 'expo park forb field era templ cup race mo bro kiner wallop herman deal k mart',\n",
       " 'tubbi boy x telboy oh real',\n",
       " 'cub open titl defens one two punch bryant rizzo',\n",
       " 'around acc blogospher septemb',\n",
       " 'star give tip get music heard',\n",
       " 'brazil want billion fine andrad engin firm globo',\n",
       " 'inspir journey aaron judg',\n",
       " 'head brazil central bank defend bank bail bill',\n",
       " 'hous pass gop budget key step upcom tax debat',\n",
       " 'tr pnc era wildcard win tr close freddi take crown lock st win',\n",
       " 'secret super element',\n",
       " 'raider throw game punish qb protest trump roger goodel',\n",
       " 'pennsylvania trump hunt democrat support tax plan',\n",
       " 'tech industri fight white supremaci fuel',\n",
       " 'food truck give free food hurrican worker kick town permit',\n",
       " 'heroin heroin save live live room',\n",
       " 'australia dual citizenship saga court hear begin',\n",
       " 'oh rat big tree dwell rodent found solomon island',\n",
       " 'uk australia differ mass shoot',\n",
       " 'compani scrambl weinstein take leav third board resign',\n",
       " 'shot amaz sport photo',\n",
       " 'jet releas tight end tye practic squad rb marcu murphi',\n",
       " 'donald trump us debt fallen sinc presid took offic',\n",
       " 'portrait la vega shoot victim',\n",
       " 'dove ad show black woman miracul transform white woman',\n",
       " 'top european innov univers methodolog',\n",
       " 'allow local common core opt',\n",
       " 'senat eviscer well fargo ceo fake account scam',\n",
       " 'cnn hero mona patel',\n",
       " 'chuck axe hbd brickyard adam moonlight ace chuck season final',\n",
       " 'nfl market machin',\n",
       " 'surviv technolog origin srm geoengin modern theori man made global warm',\n",
       " 'meet racist gop candid special assign trump',\n",
       " 'brazil want billion fine andrad engin firm globo',\n",
       " 'ditch list cut three struggl run back',\n",
       " 'snl return trump mockeri',\n",
       " 'n f l overtim work',\n",
       " 'trump goe senat bob corker bite back',\n",
       " 'presid trump say la vega shoot live updat',\n",
       " 'robin thede black woman host late night joke',\n",
       " 'tropic storm nate could strike us gulf coast hurrican weekend',\n",
       " 'villag india rajasthan reclaim common land map petit',\n",
       " 'liberia women warn male presidenti candid keep peac',\n",
       " 'chicago bear receiv core struggl earli',\n",
       " 'catalan independ push put spanish border town edg',\n",
       " 'exclus despit sanction russian organ acquir microsoft softwar',\n",
       " 'fema front depop program fema ship report ai hurrican harvey video',\n",
       " 'trump fail golf cours cost puerto rican taxpay million',\n",
       " 'question ask still believ offici narr',\n",
       " 'week rank top quarterback newton wilson return top',\n",
       " 'social experi show polic rife racism',\n",
       " 'disney big bet stream reli littl known tech compani',\n",
       " 'heart attack hockey histori',\n",
       " 'arrest anti putin march russian leader birthday',\n",
       " 'vendang carmel inn suit announc new wine theme room partnership award win soledad base carmel road wineri',\n",
       " 'cst think bengal brown today',\n",
       " 'rise rock n roll band dynamo unleash lead singl shake rattl roll avail',\n",
       " 'puig power dodger win back seri lead',\n",
       " 'white shooter call lone wolv default',\n",
       " 'american prosper pressur dem support tax reform new ad',\n",
       " 'fantasi footbal idp rank week',\n",
       " 'gloam hbd bill lou cy third everett cy leon buck clark honor tini hitter',\n",
       " 'facebook confirm russia ad instagram',\n",
       " 'interior secretari trip may violat law',\n",
       " 'miss link music sign bluegrass songwrit year daryl mosley',\n",
       " 'democrat pressur disavow weinstein',\n",
       " 'hamlet lear line thame london shakespear celebr',\n",
       " 'ian mckinley fli half name itali squad lose sight',\n",
       " 'american warn head rough time david robertson',\n",
       " 'week rank top wide receiv',\n",
       " 'russian heed navalni call mark putin birthday protest',\n",
       " 'begin fed demand facebook hand info anti trump user',\n",
       " 'non lethal polic taser kill mani mental health problem',\n",
       " 'j lawyer never heard upbeat',\n",
       " 'gotw preston v sunderland',\n",
       " 'goodel n f l owner break player anthem kneel fight',\n",
       " 'algeria struggl herder drought stop everyth',\n",
       " 'hundr injur polic shut catalan vote',\n",
       " 'teen suspend sit pledg allegi',\n",
       " 'snl michael che call trump b tch puerto rico respons',\n",
       " 'friday pirat nat cole v strasburg lineup note',\n",
       " 'roger arci releas new album hous head',\n",
       " 'la vega shoot mandalay bay stage fake actor proof la vega shoot mandalay bay stage fake actor proof',\n",
       " 'mother accus kill newborn live dead babi bodi month',\n",
       " 'republican open ban bump stock use massacr',\n",
       " 'arpaio pardon still rankl',\n",
       " 'secur measur chang respons mass shoot',\n",
       " 'carmen cruz mayor san juan godsend puerto rican',\n",
       " 'rex tillerson secretari state insist never want quit',\n",
       " 'red lobster custom make bomb joke hostess guess bring',\n",
       " 'germani regist fewer asylum seeker track annual cap',\n",
       " 'drink enough water healthi',\n",
       " 'exclus u warship sail near island beij claim south china sea u offici',\n",
       " 'u base chariti rob mexico indigen commun water',\n",
       " 'yank thing beat tribe',\n",
       " 'maria sharapova reach tianjin open quarter final beat magda linett',\n",
       " 'trump busi bash nfl forgot hire scienc advis',\n",
       " 'amaz f night takeoff',\n",
       " 'russia accus us sabotag liber deir ez zor',\n",
       " 'iphon new faceid cop unlock phone point face cuf',\n",
       " 'pre order rotoprofessor fantasi basebal draft guid',\n",
       " 'pre order rotoprofessor fantasi basebal draft guid',\n",
       " 'brazil polic arrest olymp committe chief vote buy scandal',\n",
       " 'buy em deni em time move mike gilisle',\n",
       " 'thursday night start em sit em week randal cobb jordan howard tarik cohen',\n",
       " 'japan util found neglig fukushima meltdown',\n",
       " 'financi destruct real economi',\n",
       " 'presid trump first ladi lead moment silenc la vega',\n",
       " 'abandon villag show would happen human exist hauntingli beauti',\n",
       " 'pay ordinari defens',\n",
       " 'monday morn thought jet top jaguar',\n",
       " 'fantasi footbal wide receiv rank week',\n",
       " 'u small cap firm look spend tax save tech job',\n",
       " 'pope get closer heaven call space station',\n",
       " 'relax origin style karat',\n",
       " 'schumer say rebuf anoth offer trump health care',\n",
       " 'louisvil first move let go rick pitino',\n",
       " 'cst think bengal brown today',\n",
       " 'produc harvey weinstein suspend british film academi',\n",
       " 'us climber kill avalanch kill girlfriend',\n",
       " 'coach staff fail raven',\n",
       " 'north korea crisi us bomber conduct militari drill',\n",
       " 'egypt qualifi world cup year amidst polit instabl',\n",
       " 'indian child bride sold packag deal men gulf state',\n",
       " 'box offic blade runner fade million open weekend',\n",
       " 'preseasonblackhawk boston loss recap',\n",
       " 'zak hardak castleford tiger full back ban posit drug test',\n",
       " 'japanes lotteri winner get collect manhol cover',\n",
       " 'high rank cia agent blow whistl deep state shadow govern',\n",
       " 'florida state season heap troubl',\n",
       " 'one liberia main parti call halt elect result',\n",
       " 'school scandal make ukrain hotb intrigu',\n",
       " 'miami dolphin kneeler crap america foreign soil london nfl game',\n",
       " 'brexit game eu barnier say',\n",
       " 'robert plant parti one friend',\n",
       " 'ten peopl charg louisiana state univers haze death',\n",
       " 'la vega american psyop fbi isi connect final conclus jim stone freelanc report video',\n",
       " 'happen vega stay vega question left unansw media ignor',\n",
       " 'washington post fail cover amazon nearli million dollar fine tax dodg',\n",
       " 'trump gener speak',\n",
       " 'yosemit park rock fall tribut hero climber',\n",
       " 'new york cabl provid altic acc network',\n",
       " 'antonio brown tweet apolog nois distract',\n",
       " 'pass game film review good mccown week jaguar',\n",
       " 'week predict articl oakland raider denver bronco',\n",
       " 'chines polic order uyghur muslim hand holi quran',\n",
       " 'expo park forb field buc win open lose pud hbd claud felix sarg gray win ws',\n",
       " 'post season ws win loss playoff',\n",
       " 'nfl fan set fire jersey respons takeakne',\n",
       " 'japan dentsu get small fine overtim breach despit outcri',\n",
       " 'british novelist ishiguro win nobel literatur prize',\n",
       " 'object like noth seen spot solar system',\n",
       " 'thursday pirat nat nova v edwin jackson lineup note',\n",
       " 'cub win surviv fire throw strasburg grab nld lead',\n",
       " 'franc cgt call anoth strike labor reform other refus',\n",
       " 'barbuda hurrican resid return pick piec',\n",
       " 'video show utah cop fatal shoot black man behind',\n",
       " 'spanish stock rebound flat european market catalonia fear eas',\n",
       " 'donna karan wonder women dress troubl',\n",
       " 'tr pnc era wildcard win tr close freddi take crown lock st win',\n",
       " 'two historian claim ancient egyptian build pyramid',\n",
       " 'marseil attack probabl radic brother polic',\n",
       " 'australian cybersecur report show gap privat compani defens',\n",
       " 'women meet susi pudjiastuti indonesian minist blow boat',\n",
       " 'huge ga explos send giant firebal ghana capit',\n",
       " 'review dead happi death day',\n",
       " 'gm aim lead electr vehicl market mercosur execut',\n",
       " 'two russian tycoon sell percent aluminum giant rusal million',\n",
       " 'sen rubio remov communist us soldier offic rank',\n",
       " 'india happen modi promis econom boom',\n",
       " 'amazon appl caught latest eu tax crackdown',\n",
       " 'bloodi luck f branco cartoon',\n",
       " 'black nova scotian may final get titl land',\n",
       " 'melania donald think white hous like jail',\n",
       " 'truli terribl thing agenc done year',\n",
       " 'british author rowl say trump right bigot',\n",
       " 'trump prepar kill kim jong un oh god break news tv',\n",
       " 'perfect golf swing',\n",
       " 'trump rush save puerto rican white',\n",
       " 'smart meter data privaci cybersecur',\n",
       " 'frontlin examin north korea deadli dictat',\n",
       " 'polit point score muddi sexual harass coverag',\n",
       " 'china congress militari facelift sign bigger chang',\n",
       " 'yanke new weapon postseason run',\n",
       " 'italian german irish american ancestor treat immigr',\n",
       " 'yard',\n",
       " 'white hous make hard line demand dreamer deal',\n",
       " 'review show know shut',\n",
       " 'america will neglig concern',\n",
       " 'mexico pemex gain two new partner onshor tie up',\n",
       " 'lion rooki lb jarrad davi practic field miss week three',\n",
       " 'chicago bear versu green bay packer quick injuri analysi',\n",
       " 'gun control far word',\n",
       " 'reveng sweet trinidad tobago exult soccer victori u',\n",
       " 'fantasi footbal kicker rank week',\n",
       " 'avoid anoth debacl',\n",
       " 'biden us walk dark path',\n",
       " 'canada magna join bmw intel self drive car project',\n",
       " 'expo park forb field era wire hbd jim red joe billi win run troubl',\n",
       " 'la vega mass shoot fals flag psyop black op distract deep state get desper',\n",
       " 'brazil polic arrest olymp committe chief vote buy scandal',\n",
       " 'sometim need send messag',\n",
       " 'catalonia carl puigdemont critic spanish king',\n",
       " 'facebook push ad overhaul u elect execut',\n",
       " 'tournament time',\n",
       " 'year old hammer death protect sister molest',\n",
       " 'maverick state governor take aim mexican presid',\n",
       " 'fantasi footbal week sleeper',\n",
       " 'la vega sacrific incred back stori design cover shock truth patsi stephen paddock set mass murder',\n",
       " 'game buc clinch boston even ws goos teke tripl bill game stori',\n",
       " 'cam newton laugh femal report talk footbal',\n",
       " 'trump tell penc leav n f l game player kneel anthem',\n",
       " 'winner award revers excel',\n",
       " 'air franc engin damag make emerg land video',\n",
       " 'nbc doubl tillerson quit report',\n",
       " 'u puerto rico basketbal game move hurrican damag',\n",
       " 'major defeat new world order',\n",
       " 'egypt cheiron win tie pemex mexican onshor oil field',\n",
       " 'presid trump first ladi receiv brief maria relief effort [live stream]',\n",
       " 'mccain wrong jone act suspens help puerto rico',\n",
       " 'theresa may speech mar prankster lee nelson',\n",
       " 'everyday talk intend enabl get know one anoth',\n",
       " 'tr pnc era roberto clincher hbd bryan cover boy scoop game stori',\n",
       " 'republican want women tradit homemak famili wive',\n",
       " 'louisvil first move let go rick pitino',\n",
       " 'import stori box score stori turn around buy c anderson',\n",
       " 'billi jean king emma stone steve carel star film',\n",
       " 'puerto rico hoax video',\n",
       " 'franc engi look close brazil eletrobra asset',\n",
       " 'carr raven could feast',\n",
       " 'debbi mcgee make strictli come danc boo boo',\n",
       " 'trump visit puerto rico disast epic proport',\n",
       " 'non lethal polic taser kill mani mental health problem',\n",
       " 'itali cull bird five h n avian flu outbreak octob',\n",
       " 'entir volum cia file lee harvey oswald set releas octob gone miss',\n",
       " 'germani dea deutsch erdoel win onshor pemex tie mexico',\n",
       " 'asia pacif innov univers',\n",
       " 'week photo',\n",
       " 'vote flap hit new zealand bird year poll',\n",
       " 'cam newton nfl quarterback make sexist comment femal report',\n",
       " 'japan propos chang beef import safeguard talk u sourc',\n",
       " 'report low moral ship monitor n korea',\n",
       " 'week rank top tight end',\n",
       " 'post season ws win loss playoff',\n",
       " 'georg michael regret go war soni',\n",
       " 'sen collin say graham cassidi healthcar bill effect kill effort',\n",
       " 'china open nadal beat kyrgio take sixth titl season',\n",
       " 'us militari servic member kill niger',\n",
       " 'dove ad show black woman miracul transform white woman',\n",
       " 'trump weigh profit live million puerto rican',\n",
       " 'harvey weinstein sack sexual harass claim',\n",
       " 'expo park forb field era deacon whip cy st ws game waner hit boss man roberto',\n",
       " 'thai air safeti upgrad open grow china korea japan market',\n",
       " 'like may speech countri joke',\n",
       " 'carr raven could feast',\n",
       " 'raven vs steeler friday game statu',\n",
       " 'jason aldean open snl vega tribut',\n",
       " 'raider throw game punish qb protest trump roger goodel',\n",
       " 'listen exclus interview senat bob corker',\n",
       " 'carter page plead fifth senat russia probe',\n",
       " 'internet thing send us back middl age',\n",
       " 'shot amaz sport photo',\n",
       " 'black model appear dove ad say racist',\n",
       " 'kate beckinsal join harvey weinstein accus',\n",
       " 'trickl taxat f branco',\n",
       " 'region onlin land base game',\n",
       " 'matteo manassero take matur approach',\n",
       " 'week rank top run back new name emerg viabl option',\n",
       " 'japan build space elev',\n",
       " 'kobe steel crisi deepen data tamper reveal share tumbl',\n",
       " 'progress mayor san juan turn recoveri effort polit',\n",
       " 'trump rush save puerto rican white',\n",
       " 'th inning',\n",
       " 'opec consid second meet u independ oil firm',\n",
       " 'raven raider wednesday',\n",
       " 'search end bodi mexico citi earthquak',\n",
       " 'turkish court remand german journalist custodi terror charg',\n",
       " 'state depart deni tillerson call trump moron',\n",
       " 'ball court britain eu clash next brexit move',\n",
       " 'nelli arrest alleg sexual assault',\n",
       " 'asia highest bar drink skyscap meet',\n",
       " 'terror victim seek suprem court bless sue corpor',\n",
       " 'tackl tackl',\n",
       " 'democrat media tri turn puerto rico trump katrina',\n",
       " 'chicago bear versu minnesota vike depth game preview',\n",
       " 'post game recap jet beat jaguar ot',\n",
       " 'anonym la vega happen stay cia video',\n",
       " 'meet racist gop candid special assign trump',\n",
       " 'paul anka bring vega englewood n j',\n",
       " 'cuban restor america classic car legaci',\n",
       " 'honeywel seek keep aero spin two unit',\n",
       " 'bet cs go bitcoin',\n",
       " 'nelli arrest follow tour bu rape accus',\n",
       " 'count cheat digit age',\n",
       " 'morn difficult',\n",
       " 'nelli arrest alleg sexual assault',\n",
       " 'caspar mccloud releas first acoust worship album pictur jesu',\n",
       " 'fantasi footbal idp rank week',\n",
       " 'hollywood mostli silent weinstein alleg',\n",
       " 'staten island sensat',\n",
       " 'ecb still concern exist stock bank bad loan mersch',\n",
       " 'iceland unicorn goe hammer',\n",
       " 'resist rais big money upend liber polit',\n",
       " 'congo elect mid vote commiss say anger opposit',\n",
       " 'man howard univers student murder black',\n",
       " 'cw dynasti catfight',\n",
       " 'syria happen next',\n",
       " 'erdogan launch new tirad us relat sour',\n",
       " 'yanke burn',\n",
       " 'rae morri gave zane low blank cd',\n",
       " 'mr robot season return feverish form',\n",
       " 'tri block video happen happen stun compel eyewit account includ video tri block video realli happen la vega shoot octob latest shoot la vega new eye wit pre trump speech say news worldli woman tell la vega concert crowd go die tonight bombshel come cog movement la vega massacr begin realli behind video click updat siren gunfir scream rock la vega deadli shoot unfold dead gunman video click',\n",
       " 'us hold china account human right',\n",
       " 'australia team bu hit rock india win',\n",
       " 'expo park forb field era templ cup race mo bro kiner wallop herman deal k mart',\n",
       " 'cnn hero mona patel sparkl twin',\n",
       " 'suburban symphoni releas debut singl step stone hilltown record',\n",
       " 'gov ruin live cannabi corrupt industri paid',\n",
       " 'virginia hammer bois state chang outlook season',\n",
       " 'compani man patriot quarterback tom bradi turn presid trump',\n",
       " 'air franc engin damag make emerg land video',\n",
       " 'tell donald trump high iq',\n",
       " 'blackhawk roster breakdown forward',\n",
       " 'kim wall diver find head leg miss journalist',\n",
       " 'tr pnc park era red thump buc x playoff cole beat card buc clich syd jr axe',\n",
       " 'congressman unbear hypocrisi abort',\n",
       " 'kim jong un promot sister prais north korea nuke',\n",
       " 'tip select best flower bouquet onlin',\n",
       " 'monkey thief want ice cream wait til see got',\n",
       " 'sander journalist argu trump tax claim',\n",
       " 'microscop trailblaz win chemistri nobel freez frame life',\n",
       " 'jason aldean open snl play tom petti back',\n",
       " 'everyth burn rohingya remain doubt myanmar promis',\n",
       " 'shot amaz sport photo',\n",
       " 'black model appear dove ad say racist',\n",
       " 'indian militari helicopt crash near china border seven dead',\n",
       " 'switch ipo latest limit investor vote right',\n",
       " 'raven raider thursday',\n",
       " 'boy scout move accept girl prompt backlash',\n",
       " 'smart meter creat honeypot person inform exploit',\n",
       " 'gun control advoc could break nra blockad',\n",
       " 'india suprem court rule sex child bride rape',\n",
       " 'stand anthem play',\n",
       " 'tr pnc era franki hbd daniel smokin bat game stori',\n",
       " 'iraq war vet gave exact locat vega shooter say polic took hour respond',\n",
       " 'nudg economist richard thaler win nobel prize',\n",
       " 'week abort ban endang women health reason',\n",
       " 'omg craziest mugshot ever see',\n",
       " 'chemist testifi vx found women accus kill kim',\n",
       " 'mexico citi bike mayor say two wheel overtak gridlock grind',\n",
       " 'happen hbd cap johnni dog tomato ismael wil alex franki gene hire clark retir',\n",
       " 'year old boy reprimand take knee school pledg permit',\n",
       " 'take deep breath attenborough blue planet ii',\n",
       " 'russia releas photo show u special forc sdf work isi territori fear attack',\n",
       " 'non lethal polic taser kill mani mental health problem',\n",
       " 'smart meter data privaci cybersecur',\n",
       " 'facebook twitter face bulli tax britain',\n",
       " 'stage grief london caw ing',\n",
       " 'watchdog approv pge purchas edf polish asset set condit',\n",
       " 'week rank top quarterback top surpris',\n",
       " 'epa roll back carbon emiss rule',\n",
       " 'forward woe freak show final homer show homer game stori stuff',\n",
       " 'trinidad tobago usa',\n",
       " 'longest war us histori turn today',\n",
       " 'ahead schedul yanke push toward world seri',\n",
       " 'cam newton say funni hear femal report talk rout',\n",
       " 'trump take first step toward scrap obama global warm polici',\n",
       " 'u n ban four ship north korea coal u delay four',\n",
       " 'woman throw drink laker fan took knee anthem',\n",
       " 'blade runner sputter domest box offic',\n",
       " 'victim wheelchair say ny bomb felt like doomsday',\n",
       " 'nfl player kneel protest america',\n",
       " 'bitcoin surg new record high',\n",
       " 'fantasi footbal idp rank week',\n",
       " 'haarp make sky glow radio wave western arctic start thursday',\n",
       " 'game photo michigan purdu',\n",
       " 'organ may forc return paid patriot fund',\n",
       " 'video surfac dolphin ol coach chri foerster reportedli drug team meet',\n",
       " 'cnn globalist expos steve quayl alex jone',\n",
       " 'preseasonblackhawk boston loss recap',\n",
       " 'corker tumultu relationship trump',\n",
       " 'peopl need protect polic releas info lynch year old biraci boy',\n",
       " 'presid donald trump schedul thursday septemb',\n",
       " 'dealership give new truck veteran help la vega shoot victim',\n",
       " 'mexican radio host resign highlight tie govern media',\n",
       " 'breakingview beij closer embrac bad news big tech',\n",
       " 'japan restor neglect garden abroad',\n",
       " 'would feel blackhawk lineup',\n",
       " 'panason expect autonom drive system launch',\n",
       " 'quadrillion deriv collaps entir financi system implod hour',\n",
       " 'cider brais pork shoulder pork stew creami appl cider sauc',\n",
       " 'cannib arrest florida claim eat human flesh cure diabet depress',\n",
       " 'spain catalan crisi reaction puigdemont madrid barcelona',\n",
       " 'brazil agenc say bayer monsanto tie hurt competit urg condit',\n",
       " 'hbd cannonbal paul camnitz clan game stori',\n",
       " 'brazil court freez ex leader rousseff asset refineri deal',\n",
       " 'sen john mccain brain cancer aggress tumor surgic remov',\n",
       " 'trump busi bash nfl forgot hire scienc advis',\n",
       " 'steeler ring bell time huge road win raven',\n",
       " 'relief money texa hurrican victim pleas share',\n",
       " 'la vega massacr could even wors',\n",
       " 'hell pay water food deliveri puerto rico governor warn',\n",
       " 'affleck apolog grope hilari burton',\n",
       " 'ashraf ghani afghan presid worst job earth',\n",
       " 'defens challeng doctor find kim kill case',\n",
       " 'chicago cub regular season highlight get pump nld',\n",
       " 'raven take except boo',\n",
       " 'odel beckham jr injur giant season keep spiral',\n",
       " 'catalan leader pressur drop independ',\n",
       " 'solar car begin race across australian desert',\n",
       " 'regular season openerblackhawk vs penguin win recap',\n",
       " 'andrew black road exchang bet',\n",
       " 'next financi crisi far away',\n",
       " 'yo stephen paddock identifi gunman behind lv mass shoot',\n",
       " 'chuck axe hbd brickyard adam moonlight ace chuck season final',\n",
       " 'racist propaganda librarian reject book donat melania',\n",
       " 'yve saint laurent design get new air pari museum',\n",
       " 'isi releas hit list u militari personnel urg follow hunt',\n",
       " 'kazuo ishiguro keep calm amid nobel prize frenzi',\n",
       " 'apollo mysteri last moon land return',\n",
       " 'billion yahoo account affect attack',\n",
       " 'man find note sf airport believ insid',\n",
       " 'waiver worthi week wendel smallwood sterl shepard duke johnson',\n",
       " 'smart devic listen save everyth say stop',\n",
       " 'ditch list week fallout break four player may time cut bait',\n",
       " 'brazil congress set fund cover lack campaign financ',\n",
       " 'walk dead season season premier [sneak peak]',\n",
       " 'iceland becom smallest nation qualifi world cup',\n",
       " 'worst roller coaster accid caught video',\n",
       " 'giant glow spiral shock resid russia',\n",
       " 'avid hunter jr gun silenc great instrument',\n",
       " 'trump say import nfl player stand anthem sunday',\n",
       " 'see india contemporari len',\n",
       " 'chicago cub clinch nl central divis titl',\n",
       " 'harvey weinstein draw sharp attack late night host',\n",
       " 'terri crew sexual assault survivor come forward',\n",
       " 'document sport tech happen',\n",
       " 'teacher told student dark skin play lincoln',\n",
       " 'diamondback take wild n l wild card game face dodger next',\n",
       " 'chines polic order uyghur muslim hand holi quran',\n",
       " 'catalonia independ fight produc odd bedfellow',\n",
       " 'wildfir victim minut evacu',\n",
       " 'isra spi watch russian agent breach kasperski softwar',\n",
       " 'top democrat question kellyann conway air travel',\n",
       " 'niner readi turn corner time tell',\n",
       " 'thursday morn brief',\n",
       " 'bar owner think lynch kaepernick doormat racist realli',\n",
       " 'russia china call restraint trump comment north korea',\n",
       " 'explos lawsuit show saudi arabia fund dri run',\n",
       " 'googl clip automat identifi everyon includ pet',\n",
       " 'trump kid allegedli use polit clout get fraud case drop',\n",
       " 'kushner lawyer smart email senat letter prankster',\n",
       " 'expo park forb field era templ cup race mo bro kiner wallop herman deal k mart',\n",
       " 'new york polic oper end side career mickey night manag',\n",
       " 'rohingya harvey weinstein south korea thursday brief',\n",
       " 'student skate mile chines holiday week',\n",
       " 'ellen degener say never host presid trump show',\n",
       " 'emerg market tech stock boom give fund manag headach',\n",
       " 'spain harvey weinstein donald trump thursday brief',\n",
       " 'caitlyn jenner confront jimmi kimmel make fun plan pick oj prison',\n",
       " 'tv monday island whale valor',\n",
       " 'trump continu nbc threat say licens must challeng',\n",
       " 'spent non commerci air travel obama administr interior secretari',\n",
       " 'puckin hostil shoutcastepisod',\n",
       " 'macron public sector reform spark nationwid strike',\n",
       " 'save children f branco cartoon',\n",
       " 'raven raider thursday',\n",
       " 'yemeni see turn point oust qaeda milit south',\n",
       " 'mac scrap continu impress',\n",
       " 'aung san suu kyi strip oxford honor amid ethnic cleans claim',\n",
       " 'expo park forb field buc win open lose pud hbd claud felix sarg gray win ws',\n",
       " 'cam newton tweet apolog video laugh femal report',\n",
       " 'turkish pm say idlib oper aim prevent migrant wave syria',\n",
       " 'catalonia turkey north korea wednesday brief',\n",
       " 'someth huge deep space come earth closer distanc new york tokyo',\n",
       " 'credit agenc equifax threaten pay bitcoin els',\n",
       " 'kobe steel ceo say data cheat may spread beyond japan govern order probe',\n",
       " 'kenyan opposit leader withdraw repeat presidenti poll',\n",
       " 'trump differ attitud nk',\n",
       " 'sticker proclaim kkk want found portland high school',\n",
       " 'japan transport ministri find flaw procedur five nissan plant',\n",
       " 'michigan state spartan break arch rival wolverin heart huge road win',\n",
       " 'buc finish homestand win note',\n",
       " 'week photo',\n",
       " 'busi leader say nafta better bad deal',\n",
       " 'qualcomm offer eu concess billion nxp takeov bid',\n",
       " 'categori hurrican irma becom strongest hurrican histori could wipe entir citi map',\n",
       " 'presid trump focus anti media ire nbc tillerson moron report',\n",
       " 'high school threaten ban player kneel anthem',\n",
       " 'fantasi footbal quarterback rank week',\n",
       " 'china secret aid empir uncov',\n",
       " 'disney tiffani thornton defend remarri two year husband die',\n",
       " 'platform like facebook big regul',\n",
       " 'steven tyler deni heart attack',\n",
       " 'new video emerg rais question overlap gunfir la vega concert',\n",
       " 'showtim websit hijack visitor cpu power mine cryptocurr',\n",
       " 'fire survivor neighbour',\n",
       " 'uss indianapoli discoveri war hero famili reunit',\n",
       " 'opec say reconven meet u deal cut oil output',\n",
       " 'man accus smuggl drug insid dog got shock',\n",
       " 'japan win fli car race',\n",
       " 'exclus u warship sail near island beij claim south china sea u offici',\n",
       " 'mexico quak leav thousand strand without home',\n",
       " 'fiscal test india smaller firm struggl modi face stimulu dilemma',\n",
       " 'kushner lawyer smart email senat letter prankster',\n",
       " 'nation stage late comeback perhap exorcis postseason demon',\n",
       " 'let burn usher cut million check woman infect herp [court document added]',\n",
       " 'u still seek explan arrest staff turkey ambassador',\n",
       " 'chicago cub accomplish rare franchis feat nl central win',\n",
       " 'hbd bob moos cricket starl six rip tiger moos danni hire han titl',\n",
       " 'tr pnc era buc clinch hbd pedro vin gile goe wild game stori',\n",
       " 'post vega conway blame obama atf',\n",
       " 'mlb post season monday play watch',\n",
       " 'sheriff charg teen talk lynch student',\n",
       " 'germani evid kasperski softwar use russian hack',\n",
       " 'trump success introduc nepot white hous',\n",
       " 'asian american rapper startl comeback',\n",
       " 'cb report talk kaepernick kneel',\n",
       " 'wake america time repeal second amend',\n",
       " 'hope trump clear legal team eas resist inquiri',\n",
       " 'man howard univers student murder black',\n",
       " 'player monitor teoscar hernandez emerg viabl fantasi option',\n",
       " 'young dread one follow artist releas new album',\n",
       " 'lambeau field becom hous horror chicago bear',\n",
       " 'us seek monopol cyberwarfar',\n",
       " 'jet beat dolphin ny jet podcast',\n",
       " 'presid brazilian olymp committe arrest',\n",
       " 'import stori box score pham real outlook e rodriguez',\n",
       " 'jare kushner reportedli vote woman year',\n",
       " 'paul ryan last person blame mass shoot mental ill',\n",
       " 'blade runner great ambit glitch',\n",
       " 'russian silicon valley shake hack shadow',\n",
       " 'trump bemoan littl appreci san juan mayor beg water',\n",
       " 'american woman famili held year afghanistan freed milit',\n",
       " 'report bannon said trump chanc complet full term',\n",
       " 'stephen paddock know la vega gunman',\n",
       " 'trump nomine defend move void gay worker protect',\n",
       " 'opec rais demand forecast oil point deficit',\n",
       " 'dave doeren final gotten signatur win',\n",
       " 'equifax expos major breach data major credit bureau',\n",
       " 'pass game film review mcfrown week dolphin',\n",
       " 'iceland kosovo',\n",
       " 'import stori box score dever deliv anderson giolito regress risk',\n",
       " 'fire kill coupl marri year leav miss',\n",
       " 'chicago base rock band introduc us lost art empathi',\n",
       " 'two u b bomber conduct train mission vicin sea japan',\n",
       " 'high school threaten ban player kneel anthem',\n",
       " 'fantasi footbal team defens rank week',\n",
       " 'la vega shoot th floor mandalay bay video',\n",
       " 'strong finish postseason keep kri bryant st round pick',\n",
       " 'u govern su peopl request public record',\n",
       " 'nsfw vega shoot victim graphic gore',\n",
       " 'fantasi footbal team defens rank week',\n",
       " 'brandon saad record hat trick first game back chicago blackhawk',\n",
       " 'harvey weinstein wife georgina chapman leav accus produc',\n",
       " 'bet cs go bitcoin',\n",
       " 'polic shoot actor dress bank robber indiana',\n",
       " 'colin kaepernick one man kneel movement divid countri',\n",
       " 'e u cite amazon appl tell nation collect tax',\n",
       " 'fire chief call pittsburgh steeler coach good n',\n",
       " 'wash blood away forget',\n",
       " 'gun control debat enter countri music commun',\n",
       " 'militari wait longer forc feed hunger striker detaine say',\n",
       " 'ir award multi million dollar fraud prevent contract equifax hack twice',\n",
       " 'tech real estat lift fortun china richest',\n",
       " 'japanes grand prix lewi hamilton win sebastian vettel retir',\n",
       " 'rout harvest survivor watch love one die',\n",
       " 'joe biden',\n",
       " 'joe biden happi center never exist',\n",
       " 'uk supermarket becom world first offer cashless checkout finger vein scan',\n",
       " 'souley new age hip hop rapper announc eagerli await album wildman releas septemb',\n",
       " 'see like smokejump',\n",
       " 'jordan howard fought whole career tough yard',\n",
       " 'import stori box score montgomeri strong start harper return',\n",
       " 'lilli breast cancer drug fail help lung patient',\n",
       " 'virginia hammer bois state chang outlook season',\n",
       " 'say hello dolli price front row seat',\n",
       " 'alex collin worth start',\n",
       " 'fantasi footbal idp rank week',\n",
       " 'virginia tech right schedul despit loss clemson',\n",
       " 'odel beckham jr nike power swing soho',\n",
       " 'hair get littl new style age trump',\n",
       " 'amaz f night takeoff',\n",
       " 'israel foreign agent regist russia',\n",
       " 'rapper nelli arrest alleg tour bu rape',\n",
       " 'senat bill clear obstacl self drive car advanc',\n",
       " 'chines citizen buy opul mansion us',\n",
       " 'puckin hostil shoutcast episod',\n",
       " 'john green tell stori emot pain crippl anxieti',\n",
       " 'disney tiffani thornton defend remarri two year husband die',\n",
       " 'north korean leader hail nuclear arsen power deterr',\n",
       " 'yanke pounc indian error send seri game',\n",
       " ...]"
      ]
     },
     "execution_count": 14,
     "metadata": {},
     "output_type": "execute_result"
    }
   ],
   "source": [
    "sentence_list"
   ]
  },
  {
   "cell_type": "code",
   "execution_count": 16,
   "id": "3e68c550",
   "metadata": {},
   "outputs": [],
   "source": [
    "from tensorflow.keras.preprocessing.text import one_hot\n",
    "\n",
    "## Vocabulary Size\n",
    "voc_size = 7000\n",
    "\n",
    "onehot_repr = [one_hot(word,voc_size) for word in sentence_list]\n",
    "## giving an index based on vocabulary size\n",
    "\n",
    "## also a thing to notice that the all the sentences in the given 'sentence_list' is different."
   ]
  },
  {
   "cell_type": "code",
   "execution_count": 17,
   "id": "4ccf1075",
   "metadata": {},
   "outputs": [],
   "source": [
    "## I want to know the max length in the 'sentence_list'\n",
    "sentence_length = []\n",
    "for i in sentence_list:\n",
    "    #print(i)\n",
    "    k=0\n",
    "    review = i.split()\n",
    "    for j in review:\n",
    "        k = k+1\n",
    "    sentence_length.append(k)"
   ]
  },
  {
   "cell_type": "code",
   "execution_count": 18,
   "id": "9138ff68",
   "metadata": {},
   "outputs": [
    {
     "name": "stdout",
     "output_type": "stream",
     "text": [
      "Maximum words in a Sentence: 68\n"
     ]
    }
   ],
   "source": [
    "sentence_length.sort(reverse=True)\n",
    "print('Maximum words in a Sentence: {}'.format(sentence_length[0]))"
   ]
  },
  {
   "cell_type": "markdown",
   "id": "12280d36",
   "metadata": {},
   "source": [
    "#### Embedding Representation"
   ]
  },
  {
   "cell_type": "code",
   "execution_count": 19,
   "id": "083c0be7",
   "metadata": {},
   "outputs": [],
   "source": [
    "from tensorflow.keras.layers import Embedding,LSTM,Dense\n",
    "from tensorflow.keras.preprocessing.sequence import pad_sequences\n",
    "from tensorflow.keras.models import Sequential\n",
    "from tensorflow.keras.preprocessing.text import one_hot"
   ]
  },
  {
   "cell_type": "code",
   "execution_count": 20,
   "id": "729b24d3",
   "metadata": {
    "scrolled": true
   },
   "outputs": [
    {
     "data": {
      "text/plain": [
       "array([[   0,    0,    0, ...,   44, 1208, 1674],\n",
       "       [   0,    0,    0, ..., 2890, 4626, 6821],\n",
       "       [   0,    0,    0, ...,  667, 5734, 1519],\n",
       "       ...,\n",
       "       [   0,    0,    0, ..., 1719, 5448,  991],\n",
       "       [   0,    0,    0, ..., 5491, 6737, 5865],\n",
       "       [   0,    0,    0, ..., 2205, 2424, 5157]])"
      ]
     },
     "execution_count": 20,
     "metadata": {},
     "output_type": "execute_result"
    }
   ],
   "source": [
    "## Padding Sequence -- equalizing all sentences \n",
    "embedded_docs = pad_sequences(onehot_repr,padding='pre',maxlen=sentence_length[0])\n",
    "## 'maxlen' - maximum number of words in a sentence is 68\n",
    "\n",
    "embedded_docs\n",
    "## techniaclly I've converted all the sentences into 68 words"
   ]
  },
  {
   "cell_type": "code",
   "execution_count": 21,
   "id": "3f2bc0e4",
   "metadata": {},
   "outputs": [
    {
     "data": {
      "text/plain": [
       "(3988, 68)"
      ]
     },
     "execution_count": 21,
     "metadata": {},
     "output_type": "execute_result"
    }
   ],
   "source": [
    "embedded_docs.shape"
   ]
  },
  {
   "cell_type": "code",
   "execution_count": 22,
   "id": "7f93504c",
   "metadata": {},
   "outputs": [],
   "source": [
    "## Create a Model\n",
    "features = 50\n",
    "model = Sequential()\n",
    "\n",
    "## we know voc_size = 7000\n",
    "model.add(Embedding(voc_size,features,input_length=68))\n",
    "## input_length = Maximum Number of words in a 'sentence_list' ie. 68\n",
    "## Embedding() - takes an input and converts to some specific features of vectors\n",
    "\n",
    "model.add(LSTM(100))\n",
    "## one LSTM layer with 100 Neurons\n",
    "\n",
    "model.add(Dense(1,activation='sigmoid'))\n",
    "## this is a classification problem, Therefore one final output and the value < output < 1\n",
    "\n",
    "model.compile(loss='binary_crossentropy',optimizer='adam',metrics=['accuracy'])"
   ]
  },
  {
   "cell_type": "code",
   "execution_count": 23,
   "id": "418145f9",
   "metadata": {
    "scrolled": true
   },
   "outputs": [
    {
     "name": "stdout",
     "output_type": "stream",
     "text": [
      "Model: \"sequential\"\n",
      "_________________________________________________________________\n",
      " Layer (type)                Output Shape              Param #   \n",
      "=================================================================\n",
      " embedding (Embedding)       (None, 68, 50)            350000    \n",
      "                                                                 \n",
      " lstm (LSTM)                 (None, 100)               60400     \n",
      "                                                                 \n",
      " dense (Dense)               (None, 1)                 101       \n",
      "                                                                 \n",
      "=================================================================\n",
      "Total params: 410,501\n",
      "Trainable params: 410,501\n",
      "Non-trainable params: 0\n",
      "_________________________________________________________________\n"
     ]
    }
   ],
   "source": [
    "model.summary()"
   ]
  },
  {
   "cell_type": "markdown",
   "id": "c1327c65",
   "metadata": {},
   "source": [
    "#### Model Training"
   ]
  },
  {
   "cell_type": "code",
   "execution_count": 24,
   "id": "2d0e1b33",
   "metadata": {},
   "outputs": [
    {
     "name": "stdout",
     "output_type": "stream",
     "text": [
      "(3988, 68)\n",
      "(3988,)\n"
     ]
    }
   ],
   "source": [
    "X = np.array(embedded_docs)\n",
    "y = np.array(y)\n",
    "\n",
    "print(X.shape)\n",
    "print(y.shape)"
   ]
  },
  {
   "cell_type": "code",
   "execution_count": 25,
   "id": "d5bbe91b",
   "metadata": {},
   "outputs": [],
   "source": [
    "from sklearn.model_selection import train_test_split"
   ]
  },
  {
   "cell_type": "code",
   "execution_count": 26,
   "id": "454b556d",
   "metadata": {},
   "outputs": [
    {
     "name": "stdout",
     "output_type": "stream",
     "text": [
      "(2791, 68)\n",
      "(1197, 68)\n",
      "(2791,)\n",
      "(1197,)\n"
     ]
    }
   ],
   "source": [
    "X_train,X_test,y_train,y_test = train_test_split(X,y,test_size=0.3,random_state=1)\n",
    "## 70% data for training and 30% data for testing\n",
    "\n",
    "print(X_train.shape)\n",
    "print(X_test.shape)\n",
    "print(y_train.shape)\n",
    "print(y_test.shape)"
   ]
  },
  {
   "cell_type": "code",
   "execution_count": 27,
   "id": "d6fd2e91",
   "metadata": {
    "scrolled": false
   },
   "outputs": [
    {
     "name": "stdout",
     "output_type": "stream",
     "text": [
      "Epoch 1/10\n",
      "112/112 [==============================] - 12s 46ms/step - loss: 0.7684 - accuracy: 0.6120 - val_loss: 0.5876 - val_accuracy: 0.7567\n",
      "Epoch 2/10\n",
      "112/112 [==============================] - 4s 34ms/step - loss: 0.3808 - accuracy: 0.8723 - val_loss: 0.4135 - val_accuracy: 0.8104\n",
      "Epoch 3/10\n",
      "112/112 [==============================] - 4s 33ms/step - loss: 0.1723 - accuracy: 0.9391 - val_loss: 0.4051 - val_accuracy: 0.8301\n",
      "Epoch 4/10\n",
      "112/112 [==============================] - 4s 38ms/step - loss: 0.0796 - accuracy: 0.9785 - val_loss: 0.4847 - val_accuracy: 0.8265\n",
      "Epoch 5/10\n",
      "112/112 [==============================] - 4s 34ms/step - loss: 0.0362 - accuracy: 0.9901 - val_loss: 0.5328 - val_accuracy: 0.8336\n",
      "Epoch 6/10\n",
      "112/112 [==============================] - 4s 33ms/step - loss: 0.0164 - accuracy: 0.9978 - val_loss: 0.6628 - val_accuracy: 0.8265\n",
      "Epoch 7/10\n",
      "112/112 [==============================] - 4s 34ms/step - loss: 0.0065 - accuracy: 0.9991 - val_loss: 0.6435 - val_accuracy: 0.8175\n",
      "Epoch 8/10\n",
      "112/112 [==============================] - 4s 34ms/step - loss: 0.0035 - accuracy: 0.9996 - val_loss: 0.7730 - val_accuracy: 0.8229\n",
      "Epoch 9/10\n",
      "112/112 [==============================] - 4s 37ms/step - loss: 0.0019 - accuracy: 0.9996 - val_loss: 0.7769 - val_accuracy: 0.8247\n",
      "Epoch 10/10\n",
      "112/112 [==============================] - 4s 39ms/step - loss: 0.0033 - accuracy: 0.9996 - val_loss: 0.9297 - val_accuracy: 0.8247\n"
     ]
    },
    {
     "data": {
      "text/plain": [
       "<keras.callbacks.History at 0x26bfab4e9a0>"
      ]
     },
     "execution_count": 27,
     "metadata": {},
     "output_type": "execute_result"
    }
   ],
   "source": [
    "model.fit(X_train,y_train,validation_split=0.2,epochs=10,batch_size=20)"
   ]
  },
  {
   "cell_type": "code",
   "execution_count": 28,
   "id": "1973bd3c",
   "metadata": {},
   "outputs": [
    {
     "data": {
      "image/png": "[encoded data removed]",
      "text/plain": [
       "<Figure size 432x288 with 1 Axes>"
      ]
     },
     "metadata": {
      "needs_background": "light"
     },
     "output_type": "display_data"
    }
   ],
   "source": [
    "import matplotlib.pyplot as plt\n",
    "\n",
    "plt.plot(model.history.history['accuracy'])\n",
    "plt.plot(model.history.history['val_accuracy']);\n",
    "plt.xlabel('Number of Epochs')\n",
    "plt.ylabel('Score')\n",
    "plt.title('Model Accuracy')\n",
    "plt.legend(['train accuracy','val accuracy']);"
   ]
  },
  {
   "cell_type": "markdown",
   "id": "9b0f37b6",
   "metadata": {},
   "source": [
    "#### Performance Metrics & Accuracy"
   ]
  },
  {
   "cell_type": "code",
   "execution_count": 29,
   "id": "b8d250cb",
   "metadata": {},
   "outputs": [],
   "source": [
    "from sklearn.metrics import confusion_matrix,accuracy_score"
   ]
  },
  {
   "cell_type": "code",
   "execution_count": 30,
   "id": "e10a3fa2",
   "metadata": {},
   "outputs": [
    {
     "name": "stdout",
     "output_type": "stream",
     "text": [
      "38/38 [==============================] - 1s 14ms/step\n"
     ]
    }
   ],
   "source": [
    "y_pred = model.predict(X_test)"
   ]
  },
  {
   "cell_type": "code",
   "execution_count": 31,
   "id": "8ecb6cb0",
   "metadata": {},
   "outputs": [
    {
     "data": {
      "text/plain": [
       "array([[506, 110],\n",
       "       [134, 447]], dtype=int64)"
      ]
     },
     "execution_count": 31,
     "metadata": {},
     "output_type": "execute_result"
    }
   ],
   "source": [
    "y_pred = y_pred > 0.5\n",
    "\n",
    "confusion_matrix(y_test,y_pred)"
   ]
  },
  {
   "cell_type": "code",
   "execution_count": 32,
   "id": "f5a8e449",
   "metadata": {},
   "outputs": [
    {
     "name": "stdout",
     "output_type": "stream",
     "text": [
      "Accuracy Score on Test Data : 79.62%\n"
     ]
    }
   ],
   "source": [
    "print('Accuracy Score on Test Data : {:.2f}%'.format(accuracy_score(y_test,y_pred)*100))"
   ]
  },
  {
   "cell_type": "markdown",
   "id": "82794590",
   "metadata": {},
   "source": [
    "#### Adding Dropout to a Model"
   ]
  },
  {
   "cell_type": "code",
   "execution_count": 33,
   "id": "811022a0",
   "metadata": {},
   "outputs": [],
   "source": [
    "from tensorflow.keras.layers import Dropout"
   ]
  },
  {
   "cell_type": "code",
   "execution_count": 34,
   "id": "ebac8459",
   "metadata": {},
   "outputs": [],
   "source": [
    "features = 50\n",
    "model = Sequential()\n",
    "model.add(Embedding(voc_size,features,input_length=sentence_length[0]))\n",
    "model.add(Dropout(0.3))     ## Adding a dropout\n",
    "\n",
    "model.add(LSTM(100))\n",
    "model.add(Dropout(0.3))     ## Adding a dropout\n",
    "\n",
    "model.add(Dense(1,activation='sigmoid'))\n",
    "model.compile(loss='binary_crossentropy',optimizer='adam',metrics=['accuracy'])"
   ]
  },
  {
   "cell_type": "code",
   "execution_count": 35,
   "id": "1981c108",
   "metadata": {},
   "outputs": [
    {
     "name": "stdout",
     "output_type": "stream",
     "text": [
      "Epoch 1/10\n",
      "35/35 [==============================] - 4s 76ms/step - loss: 0.6861 - accuracy: 0.5390 - val_loss: 0.6745 - val_accuracy: 0.5420\n",
      "Epoch 2/10\n",
      "35/35 [==============================] - 2s 62ms/step - loss: 0.5978 - accuracy: 0.7204 - val_loss: 0.5649 - val_accuracy: 0.7567\n",
      "Epoch 3/10\n",
      "35/35 [==============================] - 2s 70ms/step - loss: 0.4384 - accuracy: 0.8687 - val_loss: 0.4590 - val_accuracy: 0.7710\n",
      "Epoch 4/10\n",
      "35/35 [==============================] - 3s 72ms/step - loss: 0.2774 - accuracy: 0.9149 - val_loss: 0.4157 - val_accuracy: 0.8086\n",
      "Epoch 5/10\n",
      "35/35 [==============================] - 3s 71ms/step - loss: 0.1729 - accuracy: 0.9435 - val_loss: 0.4683 - val_accuracy: 0.8068\n",
      "Epoch 6/10\n",
      "35/35 [==============================] - 3s 73ms/step - loss: 0.1052 - accuracy: 0.9668 - val_loss: 0.4455 - val_accuracy: 0.8175\n",
      "Epoch 7/10\n",
      "35/35 [==============================] - 3s 72ms/step - loss: 0.0667 - accuracy: 0.9843 - val_loss: 0.4641 - val_accuracy: 0.8283\n",
      "Epoch 8/10\n",
      "35/35 [==============================] - 2s 71ms/step - loss: 0.0444 - accuracy: 0.9870 - val_loss: 0.5330 - val_accuracy: 0.8301\n",
      "Epoch 9/10\n",
      "35/35 [==============================] - 3s 72ms/step - loss: 0.0266 - accuracy: 0.9946 - val_loss: 0.5527 - val_accuracy: 0.8211\n",
      "Epoch 10/10\n",
      "35/35 [==============================] - 3s 72ms/step - loss: 0.0191 - accuracy: 0.9946 - val_loss: 0.6795 - val_accuracy: 0.8211\n"
     ]
    },
    {
     "data": {
      "text/plain": [
       "<keras.callbacks.History at 0x26b850acaf0>"
      ]
     },
     "execution_count": 35,
     "metadata": {},
     "output_type": "execute_result"
    }
   ],
   "source": [
    "model.fit(X_train,y_train,validation_split=0.2,epochs=10,batch_size=64)"
   ]
  },
  {
   "cell_type": "code",
   "execution_count": 36,
   "id": "add1a0f5",
   "metadata": {
    "scrolled": true
   },
   "outputs": [
    {
     "data": {
      "image/png": "[encoded data removed]",
      "text/plain": [
       "<Figure size 432x288 with 1 Axes>"
      ]
     },
     "metadata": {
      "needs_background": "light"
     },
     "output_type": "display_data"
    }
   ],
   "source": [
    "plt.plot(model.history.history['accuracy'])\n",
    "plt.plot(model.history.history['val_accuracy']);\n",
    "plt.xlabel('Number of Epochs')\n",
    "plt.ylabel('Score')\n",
    "plt.title('Dropout Model Accuracy')\n",
    "plt.legend(['train accuracy','val accuracy']);"
   ]
  },
  {
   "cell_type": "code",
   "execution_count": 37,
   "id": "56fcd43f",
   "metadata": {},
   "outputs": [
    {
     "name": "stdout",
     "output_type": "stream",
     "text": [
      "38/38 [==============================] - 1s 12ms/step\n"
     ]
    }
   ],
   "source": [
    "y_pred = model.predict(X_test)\n",
    "\n",
    "y_pred = y_pred > 0.5"
   ]
  },
  {
   "cell_type": "code",
   "execution_count": 38,
   "id": "271134cd",
   "metadata": {},
   "outputs": [
    {
     "data": {
      "text/plain": [
       "array([[508, 108],\n",
       "       [123, 458]], dtype=int64)"
      ]
     },
     "execution_count": 38,
     "metadata": {},
     "output_type": "execute_result"
    }
   ],
   "source": [
    "confusion_matrix(y_test,y_pred)"
   ]
  },
  {
   "cell_type": "code",
   "execution_count": 39,
   "id": "5401a6ff",
   "metadata": {},
   "outputs": [
    {
     "name": "stdout",
     "output_type": "stream",
     "text": [
      "Accuracy Score for Dropout Model: 80.70%\n"
     ]
    }
   ],
   "source": [
    "print('Accuracy Score for Dropout Model: {:.2f}%'.format(accuracy_score(y_test,y_pred)*100))"
   ]
  },
  {
   "cell_type": "markdown",
   "id": "d1f46f77",
   "metadata": {},
   "source": [
    "### Summary"
   ]
  },
  {
   "cell_type": "markdown",
   "id": "31ac1939",
   "metadata": {},
   "source": [
    "This is a Simple RNN LSTM model for detecting Fake News using 100 LSTM cells having Accuracy of 79.62 %.\n",
    "\n",
    "And Accuracy of 80.7 % by adding Dropout to Same Model.\n",
    "\n",
    "We can further increase the Accuracy by adding more Number of layers and LSTM."
   ]
  }
 ],
 "metadata": {
  "kernelspec": {
   "display_name": "Python 3 (ipykernel)",
   "language": "python",
   "name": "python3"
  },
  "language_info": {
   "codemirror_mode": {
    "name": "ipython",
    "version": 3
   },
   "file_extension": ".py",
   "mimetype": "text/x-python",
   "name": "python",
   "nbconvert_exporter": "python",
   "pygments_lexer": "ipython3",
   "version": "3.9.7"
  }
 },
 "nbformat": 4,
 "nbformat_minor": 5
}
